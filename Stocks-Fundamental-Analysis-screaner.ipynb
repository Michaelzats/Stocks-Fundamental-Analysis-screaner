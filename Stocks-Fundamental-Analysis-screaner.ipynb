{
  "nbformat": 4,
  "nbformat_minor": 0,
  "metadata": {
    "colab": {
      "provenance": [],
      "include_colab_link": true
    },
    "kernelspec": {
      "name": "python3",
      "display_name": "Python 3"
    },
    "language_info": {
      "name": "python"
    }
  },
  "cells": [
    {
      "cell_type": "markdown",
      "metadata": {
        "id": "view-in-github",
        "colab_type": "text"
      },
      "source": [
        "<a href=\"https://colab.research.google.com/github/Michaelzats/Stocks-Fundamental-Analysis-screaner/blob/main/Stocks-Fundamental-Analysis-screaner.ipynb\" target=\"_parent\"><img src=\"https://colab.research.google.com/assets/colab-badge.svg\" alt=\"Open In Colab\"/></a>"
      ]
    },
    {
      "cell_type": "code",
      "execution_count": 18,
      "metadata": {
        "id": "xjddWuHn4lDv",
        "outputId": "ff3efd0a-c7f2-4ba4-ff0e-7b947b540b5d",
        "colab": {
          "base_uri": "https://localhost:8080/"
        }
      },
      "outputs": [
        {
          "output_type": "stream",
          "name": "stdout",
          "text": [
            "Looking in indexes: https://pypi.org/simple, https://us-python.pkg.dev/colab-wheels/public/simple/\n",
            "Requirement already satisfied: urllib3 in /usr/local/lib/python3.10/dist-packages (1.26.15)\n",
            "Looking in indexes: https://pypi.org/simple, https://us-python.pkg.dev/colab-wheels/public/simple/\n",
            "Collecting bs4\n",
            "  Downloading bs4-0.0.1.tar.gz (1.1 kB)\n",
            "  Preparing metadata (setup.py) ... \u001b[?25l\u001b[?25hdone\n",
            "Requirement already satisfied: beautifulsoup4 in /usr/local/lib/python3.10/dist-packages (from bs4) (4.11.2)\n",
            "Requirement already satisfied: soupsieve>1.2 in /usr/local/lib/python3.10/dist-packages (from beautifulsoup4->bs4) (2.4.1)\n",
            "Building wheels for collected packages: bs4\n",
            "  Building wheel for bs4 (setup.py) ... \u001b[?25l\u001b[?25hdone\n",
            "  Created wheel for bs4: filename=bs4-0.0.1-py3-none-any.whl size=1257 sha256=4e0c5974553437864b721e89ae9438584a098ebe2b113a077d8b1b5e15db92ba\n",
            "  Stored in directory: /root/.cache/pip/wheels/25/42/45/b773edc52acb16cd2db4cf1a0b47117e2f69bb4eb300ed0e70\n",
            "Successfully built bs4\n",
            "Installing collected packages: bs4\n",
            "Successfully installed bs4-0.0.1\n"
          ]
        }
      ],
      "source": [
        "!pip install urllib3\n",
        "!pip install bs4\n",
        "\n",
        "# For data manipulation\n",
        "import pandas as pd\n",
        "from urllib.request import urlopen, Request\n",
        "\n",
        "# To extract fundamental data\n",
        "from bs4 import BeautifulSoup"
      ]
    },
    {
      "cell_type": "code",
      "source": [
        "def fundamental_metric(soup, metric):\n",
        "    return soup.find(text = metric).find_next(class_='snapshot-td2').text\n"
      ],
      "metadata": {
        "id": "16UDxvSs4pdF"
      },
      "execution_count": 23,
      "outputs": []
    },
    {
      "cell_type": "code",
      "source": [
        "def get_fundamental_data(df):\n",
        "    for symbol in df.index:\n",
        "        try:\n",
        "            url = (\"http://finviz.com/quote.ashx?t=\" + symbol.lower())\n",
        "            req = Request(url=url,headers={'User-Agent': 'Mozilla/5.0 (Windows NT 6.1; WOW64; rv:20.0) Gecko/20100101 Firefox/20.0'})\n",
        "            response = urlopen(req)\n",
        "            soup = BeautifulSoup(response)\n",
        "            for m in df.columns:\n",
        "                df.loc[symbol,m] = fundamental_metric(soup,m)\n",
        "        except Exception as e:\n",
        "            print (symbol, 'not found')\n",
        "    return df\n"
      ],
      "metadata": {
        "id": "A7Db-dxT4rPZ"
      },
      "execution_count": 24,
      "outputs": []
    },
    {
      "cell_type": "code",
      "source": [
        "stock_list = ['MSFT']\n",
        "\n",
        "metric = [\n",
        "'Price',\n",
        "'P/E',\n",
        "'Forward P/E',\n",
        "'PEG',\n",
        "'Debt/Eq',\n",
        "'EPS (ttm)',\n",
        "'Dividend %',\n",
        "'ROE',\n",
        "'ROI',\n",
        "'EPS Q/Q',\n",
        "'Insider Own'\n",
        "]\n"
      ],
      "metadata": {
        "id": "BVFAPuFf4szZ",
        "colab": {
          "base_uri": "https://localhost:8080/"
        },
        "outputId": "5eec0558-e0a9-4a49-b73d-150e0112479e"
      },
      "execution_count": 26,
      "outputs": [
        {
          "output_type": "execute_result",
          "data": {
            "text/plain": [
              "['P/E',\n",
              " 'Forward P/E',\n",
              " 'PEG',\n",
              " 'Debt/Eq',\n",
              " 'EPS (ttm)',\n",
              " 'Dividend %',\n",
              " 'ROE',\n",
              " 'ROI',\n",
              " 'EPS Q/Q',\n",
              " 'Insider Own']"
            ]
          },
          "metadata": {},
          "execution_count": 26
        }
      ]
    },
    {
      "cell_type": "code",
      "source": [
        "df = pd.DataFrame(index=stock_list,columns=metric)\n",
        "df = get_fundamental_data(df)\n",
        "df\n"
      ],
      "metadata": {
        "colab": {
          "base_uri": "https://localhost:8080/",
          "height": 204
        },
        "id": "ouHDQBkL5DMP",
        "outputId": "8dc5626d-b936-4066-e398-09eb2c90c215"
      },
      "execution_count": 28,
      "outputs": [
        {
          "output_type": "error",
          "ename": "NameError",
          "evalue": "ignored",
          "traceback": [
            "\u001b[0;31m---------------------------------------------------------------------------\u001b[0m",
            "\u001b[0;31mNameError\u001b[0m                                 Traceback (most recent call last)",
            "\u001b[0;32m<ipython-input-28-e50a1cfd2bc2>\u001b[0m in \u001b[0;36m<cell line: 1>\u001b[0;34m()\u001b[0m\n\u001b[0;32m----> 1\u001b[0;31m \u001b[0mdf\u001b[0m \u001b[0;34m=\u001b[0m \u001b[0mpd\u001b[0m\u001b[0;34m.\u001b[0m\u001b[0mDataFrame\u001b[0m\u001b[0;34m(\u001b[0m\u001b[0mindex\u001b[0m\u001b[0;34m=\u001b[0m\u001b[0mstock_list\u001b[0m\u001b[0;34m,\u001b[0m\u001b[0mcolumns\u001b[0m\u001b[0;34m=\u001b[0m\u001b[0mmetric\u001b[0m\u001b[0;34m)\u001b[0m\u001b[0;34m\u001b[0m\u001b[0;34m\u001b[0m\u001b[0m\n\u001b[0m\u001b[1;32m      2\u001b[0m \u001b[0mdf\u001b[0m \u001b[0;34m=\u001b[0m \u001b[0mget_fundamental_data\u001b[0m\u001b[0;34m(\u001b[0m\u001b[0mdf\u001b[0m\u001b[0;34m)\u001b[0m\u001b[0;34m\u001b[0m\u001b[0;34m\u001b[0m\u001b[0m\n\u001b[1;32m      3\u001b[0m \u001b[0mdf\u001b[0m\u001b[0;34m\u001b[0m\u001b[0;34m\u001b[0m\u001b[0m\n",
            "\u001b[0;31mNameError\u001b[0m: name 'metric' is not defined"
          ]
        }
      ]
    }
  ]
}